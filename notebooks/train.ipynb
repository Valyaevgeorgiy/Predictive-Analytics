{
 "cells": [
  {
   "cell_type": "code",
   "execution_count": 1,
   "id": "5dc3dd33",
   "metadata": {},
   "outputs": [
    {
     "data": {
      "text/html": [
       "<div>\n",
       "<style scoped>\n",
       "    .dataframe tbody tr th:only-of-type {\n",
       "        vertical-align: middle;\n",
       "    }\n",
       "\n",
       "    .dataframe tbody tr th {\n",
       "        vertical-align: top;\n",
       "    }\n",
       "\n",
       "    .dataframe thead th {\n",
       "        text-align: right;\n",
       "    }\n",
       "</style>\n",
       "<table border=\"1\" class=\"dataframe\">\n",
       "  <thead>\n",
       "    <tr style=\"text-align: right;\">\n",
       "      <th></th>\n",
       "      <th>total_meters</th>\n",
       "      <th>price</th>\n",
       "    </tr>\n",
       "  </thead>\n",
       "  <tbody>\n",
       "    <tr>\n",
       "      <th>0</th>\n",
       "      <td>40.1</td>\n",
       "      <td>35500000</td>\n",
       "    </tr>\n",
       "    <tr>\n",
       "      <th>1</th>\n",
       "      <td>79.0</td>\n",
       "      <td>75000000</td>\n",
       "    </tr>\n",
       "    <tr>\n",
       "      <th>2</th>\n",
       "      <td>21.6</td>\n",
       "      <td>4700000</td>\n",
       "    </tr>\n",
       "    <tr>\n",
       "      <th>3</th>\n",
       "      <td>51.7</td>\n",
       "      <td>15000000</td>\n",
       "    </tr>\n",
       "    <tr>\n",
       "      <th>4</th>\n",
       "      <td>43.0</td>\n",
       "      <td>30800000</td>\n",
       "    </tr>\n",
       "    <tr>\n",
       "      <th>...</th>\n",
       "      <td>...</td>\n",
       "      <td>...</td>\n",
       "    </tr>\n",
       "    <tr>\n",
       "      <th>157</th>\n",
       "      <td>46.4</td>\n",
       "      <td>25880000</td>\n",
       "    </tr>\n",
       "    <tr>\n",
       "      <th>158</th>\n",
       "      <td>40.2</td>\n",
       "      <td>32500000</td>\n",
       "    </tr>\n",
       "    <tr>\n",
       "      <th>159</th>\n",
       "      <td>47.0</td>\n",
       "      <td>35500000</td>\n",
       "    </tr>\n",
       "    <tr>\n",
       "      <th>160</th>\n",
       "      <td>43.4</td>\n",
       "      <td>37000000</td>\n",
       "    </tr>\n",
       "    <tr>\n",
       "      <th>161</th>\n",
       "      <td>38.1</td>\n",
       "      <td>10800000</td>\n",
       "    </tr>\n",
       "  </tbody>\n",
       "</table>\n",
       "<p>162 rows × 2 columns</p>\n",
       "</div>"
      ],
      "text/plain": [
       "     total_meters     price\n",
       "0            40.1  35500000\n",
       "1            79.0  75000000\n",
       "2            21.6   4700000\n",
       "3            51.7  15000000\n",
       "4            43.0  30800000\n",
       "..            ...       ...\n",
       "157          46.4  25880000\n",
       "158          40.2  32500000\n",
       "159          47.0  35500000\n",
       "160          43.4  37000000\n",
       "161          38.1  10800000\n",
       "\n",
       "[162 rows x 2 columns]"
      ]
     },
     "execution_count": 1,
     "metadata": {},
     "output_type": "execute_result"
    }
   ],
   "source": [
    "import pandas as pd\n",
    "import numpy as np\n",
    "from sklearn.model_selection import train_test_split\n",
    "from sklearn.linear_model import LinearRegression\n",
    "from sklearn.metrics import mean_squared_error, r2_score\n",
    "from sklearn.preprocessing import StandardScaler\n",
    "\n",
    "# Загрузка данных\n",
    "data = pd.read_csv(\"../data/processed/train.csv\")\n",
    "data"
   ]
  },
  {
   "cell_type": "code",
   "execution_count": 2,
   "id": "a0ff7380",
   "metadata": {},
   "outputs": [
    {
     "name": "stdout",
     "output_type": "stream",
     "text": [
      "Среднеквадратичная ошибка (MSE): 77837729271290.22\n",
      "Корень из среднеквадратичной ошибки (RMSE): 8822569.31\n",
      "Коэффициент детерминации R²: 0.439003\n",
      "Средняя ошибка предсказания: 7032283.04 рублей\n",
      "Коэффициент при площади: 8842427.13\n",
      "Свободный член: 17660148.76\n"
     ]
    }
   ],
   "source": [
    "# Стандартизация признака\n",
    "scaler = StandardScaler()\n",
    "data['total_meters'] = scaler.fit_transform(data[['total_meters']])\n",
    "\n",
    "# Разделение на признаки и целевую переменную\n",
    "X = data[['total_meters']]  # только один признак - площадь\n",
    "y = data['price']\n",
    "\n",
    "# Разделение на тренировочную и тестовую выборки\n",
    "X_train, X_test, y_train, y_test = train_test_split(X, y, test_size=0.2, random_state=42)\n",
    "\n",
    "# Создание и обучение модели\n",
    "model = LinearRegression()\n",
    "model.fit(X_train, y_train)\n",
    "\n",
    "# Предсказание на тестовой выборке\n",
    "y_pred = model.predict(X_test)\n",
    "\n",
    "# Оценка модели\n",
    "mse = mean_squared_error(y_test, y_pred)\n",
    "rmse = np.sqrt(mse)\n",
    "r2 = r2_score(y_test, y_pred)\n",
    "\n",
    "# Вывод метрик качества\n",
    "# todo: use logging\n",
    "print(f\"Среднеквадратичная ошибка (MSE): {mse:.2f}\")\n",
    "print(f\"Корень из среднеквадратичной ошибки (RMSE): {rmse:.2f}\")\n",
    "print(f\"Коэффициент детерминации R²: {r2:.6f}\")\n",
    "print(f\"Средняя ошибка предсказания: {np.mean(np.abs(y_test - y_pred)):.2f} рублей\")\n",
    "\n",
    "# Коэффициенты модели\n",
    "print(f\"Коэффициент при площади: {model.coef_[0]:.2f}\")\n",
    "print(f\"Свободный член: {model.intercept_:.2f}\")"
   ]
  },
  {
   "cell_type": "code",
   "execution_count": 4,
   "id": "b256a39c",
   "metadata": {},
   "outputs": [
    {
     "name": "stdout",
     "output_type": "stream",
     "text": [
      "Модель сохранена в файл f{model_path}\n",
      "Модель загружена из файла\n"
     ]
    }
   ],
   "source": [
    "import joblib\n",
    "# Сохранение модели\n",
    "model_path = '../models/linear_regression_model.pkl'\n",
    "\n",
    "joblib.dump(model, model_path)\n",
    "print(\"Модель сохранена в файл f{model_path}\")\n",
    "\n",
    "# Загрузка модели\n",
    "loaded_model = joblib.load(model_path)\n",
    "print(\"Модель загружена из файла\")"
   ]
  },
  {
   "cell_type": "code",
   "execution_count": null,
   "id": "0ceac15c",
   "metadata": {},
   "outputs": [],
   "source": []
  }
 ],
 "metadata": {
  "kernelspec": {
   "display_name": "venv",
   "language": "python",
   "name": "python3"
  },
  "language_info": {
   "codemirror_mode": {
    "name": "ipython",
    "version": 3
   },
   "file_extension": ".py",
   "mimetype": "text/x-python",
   "name": "python",
   "nbconvert_exporter": "python",
   "pygments_lexer": "ipython3",
   "version": "3.12.4"
  }
 },
 "nbformat": 4,
 "nbformat_minor": 5
}
